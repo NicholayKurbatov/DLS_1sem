{
  "nbformat": 4,
  "nbformat_minor": 0,
  "metadata": {
    "colab": {
      "name": "tBot_project.ipynb",
      "provenance": [],
      "authorship_tag": "ABX9TyOCPoNE3EbjmSGiG6dnK5sB"
    },
    "kernelspec": {
      "name": "python3",
      "display_name": "Python 3"
    }
  },
  "cells": [
    {
      "cell_type": "markdown",
      "metadata": {
        "id": "80GcqjD2naXl"
      },
      "source": [
        "#Imports"
      ]
    },
    {
      "cell_type": "code",
      "metadata": {
        "id": "r31jOICFXK8B"
      },
      "source": [
        "import numpy as np\r\n",
        "import pandas as pd\r\n"
      ],
      "execution_count": null,
      "outputs": []
    }
  ]
}